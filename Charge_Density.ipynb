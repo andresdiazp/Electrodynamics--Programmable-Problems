{
 "cells": [
  {
   "cell_type": "markdown",
   "id": "50352bf8-9a70-44c3-9dd8-97ef6e8626c4",
   "metadata": {},
   "source": [
    "Importamos librerías"
   ]
  },
  {
   "cell_type": "code",
   "execution_count": 35,
   "id": "1820e5aa-a88a-4914-b24b-cabcead26e5f",
   "metadata": {},
   "outputs": [],
   "source": [
    "import sympy as sp\n",
    "import matplotlib.pyplot as plt\n",
    "import numpy as np"
   ]
  },
  {
   "cell_type": "markdown",
   "id": "4addaa39-6044-41b7-8d98-00df2bfd4575",
   "metadata": {},
   "source": [
    "Definimos los simbolos a utilizar"
   ]
  },
  {
   "cell_type": "code",
   "execution_count": 3,
   "id": "5f31f612-db85-4fe0-b0fc-2d61090e2d72",
   "metadata": {},
   "outputs": [],
   "source": [
    "x, y, z = sp.symbols('x y z')\n",
    "\n",
    "Q = sp.Symbol('Q')\n",
    "\n",
    "a, b, c = sp.symbols('a b c')\n",
    "\n",
    "sigma = sp.Symbol('sigma')"
   ]
  },
  {
   "cell_type": "markdown",
   "id": "5a1de584-8bd3-49d1-a14d-6b1b10baffbb",
   "metadata": {},
   "source": [
    "Definimos la ecuación de la elipsoide:"
   ]
  },
  {
   "cell_type": "code",
   "execution_count": 4,
   "id": "5eed220e-ca1d-48d7-8753-4992ea1e573b",
   "metadata": {},
   "outputs": [
    {
     "data": {
      "text/latex": [
       "$\\displaystyle \\frac{z^{2}}{c^{2}} + \\frac{y^{2}}{b^{2}} + \\frac{x^{2}}{a^{2}} = 1$"
      ],
      "text/plain": [
       "Eq(z**2/c**2 + y**2/b**2 + x**2/a**2, 1)"
      ]
     },
     "execution_count": 4,
     "metadata": {},
     "output_type": "execute_result"
    }
   ],
   "source": [
    "ellips = sp.Eq(x**2/a**2 + y**2/b**2 + z**2/c**2, 1)\n",
    "ellips"
   ]
  },
  {
   "cell_type": "markdown",
   "id": "ee4f5718-716c-4257-9598-3b4347abc8b6",
   "metadata": {},
   "source": [
    "Definimos la ecuación de la densidad de carga de superficie"
   ]
  },
  {
   "cell_type": "code",
   "execution_count": 5,
   "id": "72401513-f88e-435a-9070-ec6eab6887c0",
   "metadata": {},
   "outputs": [
    {
     "data": {
      "text/latex": [
       "$\\displaystyle \\sigma = \\frac{Q}{4 \\pi a b c \\sqrt{\\frac{z^{2}}{c^{4}} + \\frac{y^{2}}{b^{4}} + \\frac{x^{2}}{a^{4}}}}$"
      ],
      "text/plain": [
       "Eq(sigma, Q/(4*pi*a*b*c*sqrt(z**2/c**4 + y**2/b**4 + x**2/a**4)))"
      ]
     },
     "execution_count": 5,
     "metadata": {},
     "output_type": "execute_result"
    }
   ],
   "source": [
    "density = sp.Eq(sigma, Q/(4*sp.pi*a*b*c * sp.sqrt(x**2/a**4 + y**2/b**4 + z**2/c**4)))\n",
    "density"
   ]
  },
  {
   "cell_type": "markdown",
   "id": "e59aeacf-ec68-4c7f-936c-fe8b315f9c25",
   "metadata": {},
   "source": [
    "# Parte a)"
   ]
  },
  {
   "cell_type": "markdown",
   "id": "ef8c239f-f0f7-4925-87b0-bdff4259148c",
   "metadata": {},
   "source": [
    "Primero definimos simbolos que vayamos a ocupar para esta parte"
   ]
  },
  {
   "cell_type": "code",
   "execution_count": 6,
   "id": "17401f3e-f04a-4bed-a20c-94d005ba8d29",
   "metadata": {},
   "outputs": [],
   "source": [
    "R, r = sp.symbols('R r')"
   ]
  },
  {
   "cell_type": "markdown",
   "id": "e7766552-661b-4750-8069-dab04e818530",
   "metadata": {},
   "source": [
    "Como el disco se encuentra en el plano ``xy``, primero vamos a usar la ecuación elipsoidal para dejar la ecuación de la densidad de carga en términos de ``x`` y ``y``:"
   ]
  },
  {
   "cell_type": "code",
   "execution_count": 7,
   "id": "da7bdc14-bd51-40d3-8162-19861d2cfd00",
   "metadata": {},
   "outputs": [
    {
     "data": {
      "text/latex": [
       "$\\displaystyle \\frac{z^{2}}{c^{2}} = 1 - \\frac{y^{2}}{b^{2}} - \\frac{x^{2}}{a^{2}}$"
      ],
      "text/plain": [
       "Eq(z**2/c**2, 1 - y**2/b**2 - x**2/a**2)"
      ]
     },
     "execution_count": 7,
     "metadata": {},
     "output_type": "execute_result"
    }
   ],
   "source": [
    "sp.Eq(z**2/c**2, sp.solve(ellips, z**2/c**2)[0])"
   ]
  },
  {
   "cell_type": "code",
   "execution_count": 8,
   "id": "a58eb8f1-6202-488f-ab3b-5c23a32f714e",
   "metadata": {},
   "outputs": [
    {
     "data": {
      "text/latex": [
       "$\\displaystyle \\sigma = \\frac{Q}{4 \\pi a b c \\sqrt{\\frac{1 - \\frac{y^{2}}{b^{2}} - \\frac{x^{2}}{a^{2}}}{c^{2}} + \\frac{y^{2}}{b^{4}} + \\frac{x^{2}}{a^{4}}}}$"
      ],
      "text/plain": [
       "Eq(sigma, Q/(4*pi*a*b*c*sqrt((1 - y**2/b**2 - x**2/a**2)/c**2 + y**2/b**4 + x**2/a**4)))"
      ]
     },
     "execution_count": 8,
     "metadata": {},
     "output_type": "execute_result"
    }
   ],
   "source": [
    "density.subs(z**2/c**2, sp.solve(ellips, z**2/c**2)[0])"
   ]
  },
  {
   "cell_type": "markdown",
   "id": "f216eab6-b3b6-44c9-9b56-26d935e7ec36",
   "metadata": {},
   "source": [
    "Como el disco se encuentra en el plan ``xy``, entonces $c=0$. Además al ser dos superficies (abajo y arriba), multiplicamos la ecuación por ``2``. Si simplificamos la anterior ecuación y aplicamos estas condiciones:"
   ]
  },
  {
   "cell_type": "code",
   "execution_count": 9,
   "id": "7ec54579-a24a-4031-be56-d53489036957",
   "metadata": {},
   "outputs": [
    {
     "data": {
      "text/latex": [
       "$\\displaystyle \\sigma = \\frac{Q}{4 \\pi a b \\sqrt{1 - \\frac{y^{2}}{b^{2}} - \\frac{x^{2}}{a^{2}}}}$"
      ],
      "text/plain": [
       "Eq(sigma, Q/(4*pi*a*b*sqrt(1 - y**2/b**2 - x**2/a**2)))"
      ]
     },
     "execution_count": 9,
     "metadata": {},
     "output_type": "execute_result"
    }
   ],
   "source": [
    "density_a = sp.Eq(sigma, Q/(4*sp.pi*a*b * sp.sqrt(1 - x**2/a**2 - y**2/b**2)))\n",
    "density_a"
   ]
  },
  {
   "cell_type": "markdown",
   "id": "3bb0db4e-2ba0-4745-b62d-a82bf2354966",
   "metadata": {},
   "source": [
    "Ahora como el disco es circular $a=b=R$:"
   ]
  },
  {
   "cell_type": "code",
   "execution_count": 10,
   "id": "abc6dd68-164c-489f-9ac6-afb01983f5b1",
   "metadata": {},
   "outputs": [
    {
     "data": {
      "text/latex": [
       "$\\displaystyle \\sigma = \\frac{Q}{4 \\pi R^{2} \\sqrt{\\frac{R^{2} - x^{2} - y^{2}}{R^{2}}}}$"
      ],
      "text/plain": [
       "Eq(sigma, Q/(4*pi*R**2*sqrt((R**2 - x**2 - y**2)/R**2)))"
      ]
     },
     "execution_count": 10,
     "metadata": {},
     "output_type": "execute_result"
    }
   ],
   "source": [
    "sp.simplify(density_a.subs(a, R).subs(b, R))"
   ]
  },
  {
   "cell_type": "markdown",
   "id": "bb66f676-57f4-446e-9dc6-a90426e9d739",
   "metadata": {},
   "source": [
    "Además sabemos que $r^2=x^2+y^2$:"
   ]
  },
  {
   "cell_type": "code",
   "execution_count": 11,
   "id": "a3c0d118-0f52-4034-b101-1e8241a8ff1b",
   "metadata": {},
   "outputs": [
    {
     "data": {
      "text/latex": [
       "$\\displaystyle \\sigma = \\frac{Q}{4 \\pi R^{2} \\sqrt{\\frac{R^{2} - r^{2}}{R^{2}}}}$"
      ],
      "text/plain": [
       "Eq(sigma, Q/(4*pi*R**2*sqrt((R**2 - r**2)/R**2)))"
      ]
     },
     "execution_count": 11,
     "metadata": {},
     "output_type": "execute_result"
    }
   ],
   "source": [
    "sp.simplify(density_a.subs(a, R).subs(b, R)).subs(x**2 + y**2, r**2)"
   ]
  },
  {
   "cell_type": "code",
   "execution_count": 38,
   "id": "fc8175c9-2182-4909-b7d7-8a1eb488fb92",
   "metadata": {},
   "outputs": [
    {
     "data": {
      "text/latex": [
       "$\\displaystyle \\sigma = \\frac{Q}{4 \\pi R \\sqrt{R^{2} - r^{2}}}$"
      ],
      "text/plain": [
       "Eq(sigma, Q/(4*pi*R*sqrt(R**2 - r**2)))"
      ]
     },
     "execution_count": 38,
     "metadata": {},
     "output_type": "execute_result"
    }
   ],
   "source": [
    "density_a = sp.Eq(sigma, Q/(4*sp.pi*R * sp.sqrt(R**2 - r**2)))\n",
    "density_a"
   ]
  },
  {
   "cell_type": "markdown",
   "id": "4e2c77f9-fe45-49e9-b2a1-7b8c91f0e01c",
   "metadata": {},
   "source": [
    "## Gráfico:"
   ]
  },
  {
   "cell_type": "markdown",
   "id": "80960c97-8ac2-4552-bcda-fa4270e388db",
   "metadata": {},
   "source": [
    "Para realizar los gráficos se van a tomar todos los parámetros que no sean la variable como unitarios:"
   ]
  },
  {
   "cell_type": "code",
   "execution_count": 56,
   "id": "305298bc-eaf2-42fd-ae84-04b228ee118e",
   "metadata": {
    "scrolled": true
   },
   "outputs": [
    {
     "name": "stderr",
     "output_type": "stream",
     "text": [
      "/tmp/ipykernel_197412/2141192164.py:2: RuntimeWarning: divide by zero encountered in divide\n",
      "  return 1/(4*np.pi*np.sqrt(1-np.power(r,2)))\n"
     ]
    },
    {
     "data": {
      "image/png": "[encoded data removed]",
      "text/plain": [
       "<Figure size 640x480 with 1 Axes>"
      ]
     },
     "metadata": {},
     "output_type": "display_data"
    }
   ],
   "source": [
    "def Density_a(r):\n",
    "    return 1/(4*np.pi*np.sqrt(1-np.power(r,2)))\n",
    "\n",
    "r_lins = np.linspace(0,1,100)\n",
    "\n",
    "plt.figure()\n",
    "\n",
    "plt.xlabel('r')\n",
    "\n",
    "plt.ylabel(r'$\\sigma$')\n",
    "\n",
    "plt.plot(r_lins, Density_a(r_lins))\n",
    "plt.show()"
   ]
  },
  {
   "cell_type": "markdown",
   "id": "5f16f0dd-0f5e-4062-b8a2-b1b52d2fda5b",
   "metadata": {},
   "source": [
    "# Parte b)"
   ]
  },
  {
   "cell_type": "markdown",
   "id": "21620b82-6ac6-4cd2-85ce-50c6f313fd87",
   "metadata": {},
   "source": [
    "Primero definimos simbolos que vayamos a ocupar para esta parte"
   ]
  },
  {
   "cell_type": "code",
   "execution_count": 14,
   "id": "ee005923-791d-432d-9de8-7af8969116b4",
   "metadata": {},
   "outputs": [],
   "source": [
    "Lambda = sp.Symbol('Lambda')"
   ]
  },
  {
   "cell_type": "markdown",
   "id": "725ba182-731c-413e-99b5-b43c6e44854e",
   "metadata": {},
   "source": [
    "Como la cinta, al igual que el disco se encuentra en el plano ``xy``, realizamos lo mismo que hicimos antes"
   ]
  },
  {
   "cell_type": "code",
   "execution_count": 15,
   "id": "ab25dd63-7a48-426d-8900-c626c9e6bf40",
   "metadata": {},
   "outputs": [
    {
     "data": {
      "text/latex": [
       "$\\displaystyle \\sigma = \\frac{Q}{4 \\pi a b \\sqrt{1 - \\frac{y^{2}}{b^{2}} - \\frac{x^{2}}{a^{2}}}}$"
      ],
      "text/plain": [
       "Eq(sigma, Q/(4*pi*a*b*sqrt(1 - y**2/b**2 - x**2/a**2)))"
      ]
     },
     "execution_count": 15,
     "metadata": {},
     "output_type": "execute_result"
    }
   ],
   "source": [
    "density_b = sp.Eq(sigma, Q/(4*sp.pi*a*b * sp.sqrt(1 - x**2/a**2 - y**2/b**2)))\n",
    "density_b"
   ]
  },
  {
   "cell_type": "markdown",
   "id": "987ca5a5-c1a1-41be-8d45-cda92a5f2f18",
   "metadata": {},
   "source": [
    "Ahora definimos $\\Lambda$:"
   ]
  },
  {
   "cell_type": "code",
   "execution_count": 16,
   "id": "a78adca4-370b-4479-a10f-766d4b6e5822",
   "metadata": {},
   "outputs": [
    {
     "data": {
      "text/latex": [
       "$\\displaystyle \\Lambda = \\frac{Q}{2 b}$"
      ],
      "text/plain": [
       "Eq(Lambda, Q/(2*b))"
      ]
     },
     "execution_count": 16,
     "metadata": {},
     "output_type": "execute_result"
    }
   ],
   "source": [
    "sp.Eq(Lambda, Q/(2*b))"
   ]
  },
  {
   "cell_type": "markdown",
   "id": "c6bcebec-df6e-4b38-9b15-3fd28bd2ffbb",
   "metadata": {},
   "source": [
    "Sustituyendo $\\Lambda$:"
   ]
  },
  {
   "cell_type": "code",
   "execution_count": 17,
   "id": "c195dbd2-f0eb-4e7e-8f23-5a47934e7032",
   "metadata": {},
   "outputs": [
    {
     "data": {
      "text/latex": [
       "$\\displaystyle \\sigma = \\frac{\\Lambda}{2 \\pi a \\sqrt{1 - \\frac{y^{2}}{b^{2}} - \\frac{x^{2}}{a^{2}}}}$"
      ],
      "text/plain": [
       "Eq(sigma, Lambda/(2*pi*a*sqrt(1 - y**2/b**2 - x**2/a**2)))"
      ]
     },
     "execution_count": 17,
     "metadata": {},
     "output_type": "execute_result"
    }
   ],
   "source": [
    "density_b = density_b.subs(Q, 2*b*Lambda)\n",
    "density_b"
   ]
  },
  {
   "cell_type": "markdown",
   "id": "aff7219a-9a0a-4d3b-9403-1449fc7840ce",
   "metadata": {},
   "source": [
    "Como la cinta se extiende al $\\infty$, realizamos el límite cuando $b \\rightarrow \\infty$:"
   ]
  },
  {
   "cell_type": "code",
   "execution_count": 18,
   "id": "581d3011-90e7-422c-b0ab-1e8d09723f74",
   "metadata": {},
   "outputs": [
    {
     "data": {
      "text/latex": [
       "$\\displaystyle \\frac{\\Lambda}{2 \\pi a \\sqrt{\\frac{a^{2} - x^{2}}{a^{2}}}}$"
      ],
      "text/plain": [
       "Lambda/(2*pi*a*sqrt((a**2 - x**2)/a**2))"
      ]
     },
     "execution_count": 18,
     "metadata": {},
     "output_type": "execute_result"
    }
   ],
   "source": [
    "sp.limit(density_b.rhs, b, 'oo')"
   ]
  },
  {
   "cell_type": "markdown",
   "id": "bc3ed385-0b66-4996-8a7c-2cfa92ef0fd7",
   "metadata": {},
   "source": [
    "Simplificando:"
   ]
  },
  {
   "cell_type": "code",
   "execution_count": 19,
   "id": "46fe6e2f-b3a0-4539-9719-aad816221ce3",
   "metadata": {},
   "outputs": [
    {
     "data": {
      "text/latex": [
       "$\\displaystyle \\sigma = \\frac{\\Lambda}{2 \\pi \\sqrt{a^{2} - x^{2}}}$"
      ],
      "text/plain": [
       "Eq(sigma, Lambda/(2*pi*sqrt(a**2 - x**2)))"
      ]
     },
     "execution_count": 19,
     "metadata": {},
     "output_type": "execute_result"
    }
   ],
   "source": [
    "density_b = sp.Eq(sigma, Lambda/(2*sp.pi * sp.sqrt(a**2 - x**2)))\n",
    "density_b"
   ]
  },
  {
   "cell_type": "code",
   "execution_count": 57,
   "id": "29b59186-a7a1-42b7-b67b-a2faa0aff1f8",
   "metadata": {},
   "outputs": [
    {
     "name": "stderr",
     "output_type": "stream",
     "text": [
      "/tmp/ipykernel_197412/2153797903.py:2: RuntimeWarning: divide by zero encountered in divide\n",
      "  return 1/(2*np.pi*np.sqrt(1-np.power(x,2)))\n"
     ]
    },
    {
     "data": {
      "image/png": "[encoded data removed]",
      "text/plain": [
       "<Figure size 640x480 with 1 Axes>"
      ]
     },
     "metadata": {},
     "output_type": "display_data"
    }
   ],
   "source": [
    "def Density_b(x):\n",
    "    return 1/(2*np.pi*np.sqrt(1-np.power(x,2)))\n",
    "\n",
    "x_lins = np.linspace(-1,1,100)\n",
    "\n",
    "plt.figure()\n",
    "\n",
    "plt.xlabel('x')\n",
    "\n",
    "plt.ylabel(r'$\\sigma$')\n",
    "\n",
    "plt.plot(x_lins, Density_b(x_lins))\n",
    "plt.show()"
   ]
  },
  {
   "cell_type": "markdown",
   "id": "b70ef393-e1d3-4993-b20a-abe4cc32027b",
   "metadata": {},
   "source": [
    "# Parte c)"
   ]
  },
  {
   "cell_type": "markdown",
   "id": "c3b1374c-de9d-49a9-a79f-159023a780b7",
   "metadata": {},
   "source": [
    "Primero definimos simbolos que vayamos a ocupar para esta parte"
   ]
  },
  {
   "cell_type": "code",
   "execution_count": 21,
   "id": "8b3989f1-d855-4e7a-981f-e8037a936ec1",
   "metadata": {},
   "outputs": [],
   "source": [
    "dq = sp.Symbol('dq')\n",
    "dx = sp.Symbol('dx')\n",
    "ds = sp.Symbol('ds')\n",
    "dr = sp.Symbol('dr')\n",
    "lambda1 = sp.Symbol('lambda')"
   ]
  },
  {
   "cell_type": "markdown",
   "id": "3c6427c5-7f58-4cc4-8294-a517fd976f69",
   "metadata": {},
   "source": [
    "Vamos a modelar la aguja como un cilindro acostado sobre el eje ``x``. Como un cilindro se ve como un disco circular en el plano ``yz``, entonces $b=c$ y el radio de dicho disco sería $r² = y² + z²$. Realizando estos cambio, la ecuación elipsoidal y la ecuación de densidad se ven así:"
   ]
  },
  {
   "cell_type": "code",
   "execution_count": 22,
   "id": "0b2d9c2a-0aed-4887-aa25-996e49c4daed",
   "metadata": {},
   "outputs": [
    {
     "data": {
      "text/latex": [
       "$\\displaystyle \\frac{r^{2}}{b^{2}} + \\frac{x^{2}}{a^{2}} = 1$"
      ],
      "text/plain": [
       "Eq(r**2/b**2 + x**2/a**2, 1)"
      ]
     },
     "execution_count": 22,
     "metadata": {},
     "output_type": "execute_result"
    }
   ],
   "source": [
    "sp.simplify(ellips.subs(c,b).subs(y**2, r**2 - z**2))"
   ]
  },
  {
   "cell_type": "code",
   "execution_count": 23,
   "id": "89e2ffc6-e865-47e7-9b7e-1e9c1e407111",
   "metadata": {},
   "outputs": [
    {
     "data": {
      "text/latex": [
       "$\\displaystyle \\sigma = \\frac{Q}{4 \\pi a b^{2} \\sqrt{\\frac{r^{2}}{b^{4}} + \\frac{x^{2}}{a^{4}}}}$"
      ],
      "text/plain": [
       "Eq(sigma, Q/(4*pi*a*b**2*sqrt(r**2/b**4 + x**2/a**4)))"
      ]
     },
     "execution_count": 23,
     "metadata": {},
     "output_type": "execute_result"
    }
   ],
   "source": [
    "density_c = sp.simplify(density.subs(c, b).subs(y**2, r**2 - z**2))\n",
    "density_c"
   ]
  },
  {
   "cell_type": "markdown",
   "id": "9deada19-09f0-4574-85b3-66cd0f203767",
   "metadata": {},
   "source": [
    "La densidad de carga por unidad de longitud es $\\lambda (x) = \\frac{dq}{dx}$. Primero vamos a calcular el $dq$, que es la carga de un anillo de ancho $dx$:"
   ]
  },
  {
   "cell_type": "code",
   "execution_count": 24,
   "id": "c152f050-a527-4333-b3e7-e3cd9204b5ff",
   "metadata": {},
   "outputs": [
    {
     "data": {
      "text/latex": [
       "$\\displaystyle dq = 2 \\pi ds r \\sigma$"
      ],
      "text/plain": [
       "Eq(dq, 2*pi*ds*r*sigma)"
      ]
     },
     "execution_count": 24,
     "metadata": {},
     "output_type": "execute_result"
    }
   ],
   "source": [
    "delta_q = sp.Eq(dq, sigma*2*sp.pi*r*ds)\n",
    "delta_q"
   ]
  },
  {
   "cell_type": "markdown",
   "id": "7e33d854-df75-4013-aca2-94e91e4b92a6",
   "metadata": {},
   "source": [
    " donde $ds = \\sqrt{dr² + dx²} = dx \\sqrt{1+(\\frac{dr}{dx})²}$"
   ]
  },
  {
   "cell_type": "markdown",
   "id": "b92bf089-fd62-49ee-81d7-5c753274a56b",
   "metadata": {},
   "source": [
    "Para conseguir una relación $\\frac{dr}{dx}$, derivamos la ecuación elipsoidal:"
   ]
  },
  {
   "cell_type": "code",
   "execution_count": 25,
   "id": "9328d50b-7b2c-4a44-8da9-e3c41ba3d793",
   "metadata": {},
   "outputs": [
    {
     "data": {
      "text/latex": [
       "$\\displaystyle \\frac{2 dr r}{b^{2}} + \\frac{2 dx x}{a^{2}} = 0$"
      ],
      "text/plain": [
       "Eq(2*dr*r/b**2 + 2*dx*x/a**2, 0)"
      ]
     },
     "execution_count": 25,
     "metadata": {},
     "output_type": "execute_result"
    }
   ],
   "source": [
    "elips_deriv = sp.Eq(2*x*dx/a**2 + 2*r*dr/b**2, 0)\n",
    "elips_deriv"
   ]
  },
  {
   "cell_type": "markdown",
   "id": "b2427eca-c94f-4024-bbb2-d58e5fb54935",
   "metadata": {},
   "source": [
    "Despejando $\\frac{dr}{dx}$:"
   ]
  },
  {
   "cell_type": "code",
   "execution_count": 26,
   "id": "249b2fda-5c10-4fae-a796-6bcea78bcdd1",
   "metadata": {},
   "outputs": [
    {
     "data": {
      "text/latex": [
       "$\\displaystyle \\frac{dr}{dx} = - \\frac{b^{2} x}{a^{2} r}$"
      ],
      "text/plain": [
       "Eq(dr/dx, -b**2*x/(a**2*r))"
      ]
     },
     "execution_count": 26,
     "metadata": {},
     "output_type": "execute_result"
    }
   ],
   "source": [
    "aux = sp.Eq(dr/dx, sp.solve(elips_deriv, dr)[0]/dx)\n",
    "aux"
   ]
  },
  {
   "cell_type": "markdown",
   "id": "69231de9-c333-4aae-9df9-61b676c82f48",
   "metadata": {},
   "source": [
    "Sustituendo en $ds$:"
   ]
  },
  {
   "cell_type": "code",
   "execution_count": 27,
   "id": "def1d6f3-b7c5-41b6-b5e2-cabc6a00fa03",
   "metadata": {},
   "outputs": [
    {
     "data": {
      "text/latex": [
       "$\\displaystyle ds = dx \\sqrt{1 + \\frac{b^{4} x^{2}}{a^{4} r^{2}}}$"
      ],
      "text/plain": [
       "Eq(ds, dx*sqrt(1 + b**4*x**2/(a**4*r**2)))"
      ]
     },
     "execution_count": 27,
     "metadata": {},
     "output_type": "execute_result"
    }
   ],
   "source": [
    "sp.Eq(ds, dx * sp.sqrt(1 + (dr/dx)**2)).subs(dr/dx, aux.rhs)"
   ]
  },
  {
   "cell_type": "markdown",
   "id": "0a9bc078-3674-42c5-a411-fad619fee473",
   "metadata": {},
   "source": [
    "Sacando a factor común $\\frac{b^4}{r^2}$ :"
   ]
  },
  {
   "cell_type": "code",
   "execution_count": 28,
   "id": "3e0dba55-aeae-49d6-84f1-79e05ada207d",
   "metadata": {},
   "outputs": [
    {
     "data": {
      "text/latex": [
       "$\\displaystyle ds = \\frac{b^{2} dx \\sqrt{\\frac{r^{2}}{b^{4}} + \\frac{x^{2}}{a^{4}}}}{r}$"
      ],
      "text/plain": [
       "Eq(ds, b**2*dx*sqrt(r**2/b**4 + x**2/a**4)/r)"
      ]
     },
     "execution_count": 28,
     "metadata": {},
     "output_type": "execute_result"
    }
   ],
   "source": [
    "delta_s = sp.Eq(ds, dx * b**2/r * sp.sqrt(r**2/b**4 + x**2/a**4)).subs(dr/dx, aux.rhs)\n",
    "delta_s"
   ]
  },
  {
   "cell_type": "markdown",
   "id": "5d38f5bf-d633-46bf-8b5b-d690318278e1",
   "metadata": {},
   "source": [
    "Volviendo a $\\lambda (x)$:"
   ]
  },
  {
   "cell_type": "code",
   "execution_count": 29,
   "id": "57b5bae3-ce99-4d82-8d60-18807216cff8",
   "metadata": {},
   "outputs": [
    {
     "data": {
      "text/latex": [
       "$\\displaystyle dq = \\frac{Q dx}{2 a}$"
      ],
      "text/plain": [
       "Eq(dq, Q*dx/(2*a))"
      ]
     },
     "execution_count": 29,
     "metadata": {},
     "output_type": "execute_result"
    }
   ],
   "source": [
    "delta_q = sp.simplify(delta_q.subs(ds, delta_s.rhs).subs(sigma, density_c.rhs))\n",
    "delta_q"
   ]
  },
  {
   "cell_type": "markdown",
   "id": "9aecd557-ee09-4ef9-88b0-83559573ca0c",
   "metadata": {},
   "source": [
    "Por último $\\lambda (x) = \\frac{dq}{dx}$"
   ]
  },
  {
   "cell_type": "code",
   "execution_count": 30,
   "id": "300ef099-aea5-4330-a578-7a241c7eeb82",
   "metadata": {},
   "outputs": [
    {
     "data": {
      "text/latex": [
       "$\\displaystyle \\lambda = \\frac{Q}{2 a}$"
      ],
      "text/plain": [
       "Eq(lambda, Q/(2*a))"
      ]
     },
     "execution_count": 30,
     "metadata": {},
     "output_type": "execute_result"
    }
   ],
   "source": [
    "lineal_density = sp.Eq(lambda1, delta_q.rhs/dx)\n",
    "lineal_density"
   ]
  },
  {
   "cell_type": "code",
   "execution_count": 60,
   "id": "205c3b9a-f85b-44a2-a9bb-fef1558c2386",
   "metadata": {},
   "outputs": [
    {
     "data": {
      "image/png": "[encoded data removed]",
      "text/plain": [
       "<Figure size 640x480 with 1 Axes>"
      ]
     },
     "metadata": {},
     "output_type": "display_data"
    }
   ],
   "source": [
    "def Density_c(r):\n",
    "    return 1/2\n",
    "\n",
    "r_lins = np.linspace(0,1,100)\n",
    "\n",
    "plt.figure()\n",
    "\n",
    "plt.xlabel(r'$x$')\n",
    "\n",
    "plt.ylabel(r'$\\lambda$')\n",
    "\n",
    "plt.plot(r_lins, [Density_c(i) for i in r_lins])\n",
    "plt.show()"
   ]
  }
 ],
 "metadata": {
  "kernelspec": {
   "display_name": "Python 3 (ipykernel)",
   "language": "python",
   "name": "python3"
  },
  "language_info": {
   "codemirror_mode": {
    "name": "ipython",
    "version": 3
   },
   "file_extension": ".py",
   "mimetype": "text/x-python",
   "name": "python",
   "nbconvert_exporter": "python",
   "pygments_lexer": "ipython3",
   "version": "3.12.7"
  }
 },
 "nbformat": 4,
 "nbformat_minor": 5
}
